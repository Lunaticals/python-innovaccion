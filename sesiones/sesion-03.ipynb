{
  "nbformat": 4,
  "nbformat_minor": 0,
  "metadata": {
    "colab": {
      "name": "Sesión 3 - Python 101",
      "provenance": [],
      "private_outputs": true,
      "authorship_tag": "ABX9TyNbKER5DIP3Xw9t4cZnB4SX",
      "include_colab_link": true
    },
    "kernelspec": {
      "name": "python3",
      "display_name": "Python 3"
    }
  },
  "cells": [
    {
      "cell_type": "markdown",
      "metadata": {
        "id": "view-in-github",
        "colab_type": "text"
      },
      "source": [
        "<a href=\"https://colab.research.google.com/github/RodolfoFerro/python-innovaccion/blob/main/sesiones/sesion-03.ipynb\" target=\"_parent\"><img src=\"https://colab.research.google.com/assets/colab-badge.svg\" alt=\"Open In Colab\"/></a>"
      ]
    },
    {
      "cell_type": "markdown",
      "metadata": {
        "id": "EXCqS7CqJRRW"
      },
      "source": [
        "# Curso de introducción a Python\n",
        "\n",
        "Curso de introducción a la programación con Python para la comunidad de **Innovacción Virtual**.\n",
        "\n",
        "Código desarrollado y documentado por **Rodolfo Ferro**, Sherpa Digital de Innovación para Microsoft México y Google Developer Expert en Machine Learning.\n",
        "\n",
        "##### **Redes:**\n",
        "- GitHub: [RodolfoFerro](https://github.com/RodolfoFerro)\n",
        "- Twitter: [rodo_ferro](https://twitter.com/rodo_ferro)\n",
        "- Instagram: [rodo_ferro](https://instagram.com/rodo_ferro)\n"
      ]
    },
    {
      "cell_type": "markdown",
      "metadata": {
        "id": "FiOqemeWKj16"
      },
      "source": [
        "## Contenidos\n",
        "\n",
        "1. Funciones (pt. II)\n",
        "2. Diccionarios\n",
        "3. Objetos web: JSON\n",
        "4. Intro a `requests`"
      ]
    },
    {
      "cell_type": "markdown",
      "metadata": {
        "id": "AaF2EXewRjs6"
      },
      "source": [
        "## Funciones (pt. II)\n",
        "\n",
        "La manera en la que empaquetamos procesos que ejecutan un bloque completo de código es a través de funciones, la sintaxis de Python es muy sencilla y eficiente para escribir bloques de código de forma ordenada.\n",
        "\n",
        "La mayoría de los paquetes en Python están conformados por objetos y funciones.\n",
        "\n",
        "#### Sintaxis:\n",
        "\n",
        "```python\n",
        "def function_name(arguments):\n",
        "    # Block of code\n",
        "\t# Final block of code\n",
        "\treturn something\n",
        "```"
      ]
    },
    {
      "cell_type": "markdown",
      "metadata": {
        "id": "ZUlLPHdVEzeb"
      },
      "source": [
        "#### Módulo random"
      ]
    },
    {
      "cell_type": "code",
      "metadata": {
        "id": "y38RS8sAWSXP"
      },
      "source": [
        "import random"
      ],
      "execution_count": null,
      "outputs": []
    },
    {
      "cell_type": "code",
      "metadata": {
        "id": "h25nBRA7FTtw"
      },
      "source": [
        "print(random.randint(1, 6))"
      ],
      "execution_count": null,
      "outputs": []
    },
    {
      "cell_type": "code",
      "metadata": {
        "id": "4VaVv-GCFnQk"
      },
      "source": [
        "def tira_dados(n_dados):\n",
        "    for dado in range(n_dados):\n",
        "        print(random.randint(1, 6))"
      ],
      "execution_count": null,
      "outputs": []
    },
    {
      "cell_type": "code",
      "metadata": {
        "id": "cxW09fyNF64s"
      },
      "source": [
        "tira_dados(6)"
      ],
      "execution_count": null,
      "outputs": []
    },
    {
      "cell_type": "markdown",
      "metadata": {
        "id": "W7VCkdc7QBUR"
      },
      "source": [
        "## Diccionarios\n",
        "\n",
        "Una **colección** es un conjunto de elementos que se agrupan en una sola estructura de datos de Python. De manera nativa Python tiene soporte para:\n",
        "- Listas y tuplas\n",
        "- Diccionarios y conjuntos\n",
        "- ¿Otros?\n",
        "\n",
        "#### Ejemplo:\n",
        "\n",
        "```python\n",
        "my_list = [1.0, 2.0, 3.0]\n",
        "my_tuple = (1.0, 2.0, 3.0)\n",
        "my_dict = {\n",
        "    \"day\": 6,\n",
        "    \"month\": \"August\"\n",
        "}\n",
        "```\n",
        "\n",
        "- Los diccionarios funcionan con llaves, en lugar de \n",
        "índices.\n",
        "- Existen funciones para extraer todos los elementos de golpe.\n"
      ]
    },
    {
      "cell_type": "code",
      "metadata": {
        "id": "QCM7kbwyNrqy"
      },
      "source": [
        "taquerias = [\n",
        "    \"Takesabroso\",     # 0\n",
        "    \"El Inge\",         # 1\n",
        "    \"Valoz\",           # 2\n",
        "    \"Takos El Rodo\",   # 3\n",
        "    \"Tacos Los Papis\", # 4\n",
        "    \"El Taco Loco\"     # 5\n",
        "]"
      ],
      "execution_count": null,
      "outputs": []
    },
    {
      "cell_type": "code",
      "metadata": {
        "id": "-RjvslvQHEe1"
      },
      "source": [
        "taquerias[3]"
      ],
      "execution_count": null,
      "outputs": []
    },
    {
      "cell_type": "code",
      "metadata": {
        "id": "uF42PS4FHXx_"
      },
      "source": [
        "cita = {\n",
        "    \"fecha\": \"21/10/2020\",\n",
        "    \"paciente\": \"Carlos Ahumada\",\n",
        "    \"medico\": \"Dr. Ricardo Mirón\",\n",
        "    \"consultorio\": 35\n",
        "}"
      ],
      "execution_count": null,
      "outputs": []
    },
    {
      "cell_type": "code",
      "metadata": {
        "id": "X4k07SHJH9dX"
      },
      "source": [
        "print(cita[\"fecha\"])\n",
        "print(cita[\"consultorio\"])"
      ],
      "execution_count": null,
      "outputs": []
    },
    {
      "cell_type": "code",
      "metadata": {
        "id": "aQTRiOkiISWx"
      },
      "source": [
        "citas = [\n",
        "    {\n",
        "        \"fecha\": \"21/10/2020\",\n",
        "        \"paciente\": \"Carlos Ahumada\",\n",
        "        \"medico\": \"Dr. Ricardo Mirón\",\n",
        "        \"consultorio\": 35\n",
        "    }, # 0\n",
        "    {\n",
        "        \"fecha\": \"21/10/2020\",\n",
        "        \"paciente\": \"Rodo Ferro\",\n",
        "        \"medico\": \"Dr. Ricardo Mirón\",\n",
        "        \"consultorio\": 35\n",
        "    }, # 1\n",
        "    {\n",
        "        \"fecha\": \"21/10/2020\",\n",
        "        \"paciente\": \"Carlos Torres\",\n",
        "        \"medico\": \"Dra. DuPont\",\n",
        "        \"consultorio\": 420\n",
        "    }  # 2  \n",
        "]"
      ],
      "execution_count": null,
      "outputs": []
    },
    {
      "cell_type": "code",
      "metadata": {
        "id": "5wEulRfuIvYG"
      },
      "source": [
        "print(citas[1][\"paciente\"])\n",
        "citas[1][\"paciente\"] = \"Rodolfo Ferro\"\n",
        "print(citas[1][\"paciente\"])"
      ],
      "execution_count": null,
      "outputs": []
    },
    {
      "cell_type": "markdown",
      "metadata": {
        "id": "mYZoO7t3WZUD"
      },
      "source": [
        "## Objetos web: JSON\n",
        "\n",
        "**JSON**, de **J**ava**S**cript **O**bject **N**otation, es un estándar de formato para contenidos en la web. La notación describe el formato agrupado de los objetos a través de `[]` y `{}`, lo que hace que sea muy similar a trabajar con listas y diccionarios de manera conjunta.\n",
        "\n",
        "Este es un estándar muy utilizado en la actualidad para comunicar procesos y servicios a través de la web.\n",
        "\n",
        "#### Ejemplo:\n",
        "\n",
        "<center>\n",
        "    <img src=\"https://raw.githubusercontent.com/RodolfoFerro/python-innovaccion/main/assets/vision_example.png\" width=\"50%\">\n",
        "</center>\n",
        "\n",
        "```json\n",
        "[\n",
        "  {\n",
        "    \"faceId\": \"be14f796-bbdb-4e73-91e6-135bc796ac98\",\n",
        "    \"faceRectangle\": {\n",
        "      \"top\": 76,\n",
        "      \"left\": 446,\n",
        "      \"width\": 226,\n",
        "      \"height\": 284\n",
        "    },\n",
        "    \"faceAttributes\": null,\n",
        "    \"faceLandmarks\": null\n",
        "  }\n",
        "]\n",
        "```"
      ]
    },
    {
      "cell_type": "markdown",
      "metadata": {
        "id": "VpBp-WYVYIwq"
      },
      "source": [
        "Hagamos un breve repaso de cómo utilizar diccionarios y listas con este ejemplo de respuesta en formato JSON..."
      ]
    },
    {
      "cell_type": "code",
      "metadata": {
        "id": "6MmuhsTiRwX7"
      },
      "source": [
        "cognitive_response = [\n",
        "  {\n",
        "    \"rectangle\": {\n",
        "      \"x\": 6,\n",
        "      \"y\": 390,\n",
        "      \"w\": 48,\n",
        "      \"h\": 40\n",
        "    },\n",
        "    \"object\": \"footwear\",\n",
        "    \"confidence\": 0.513\n",
        "  },\n",
        "  {\n",
        "    \"rectangle\": {\n",
        "      \"x\": 104,\n",
        "      \"y\": 104,\n",
        "      \"w\": 127,\n",
        "      \"h\": 323\n",
        "    },\n",
        "    \"object\": \"person\",\n",
        "    \"confidence\": 0.763\n",
        "  },\n",
        "  {\n",
        "    \"rectangle\": {\n",
        "      \"x\": 174,\n",
        "      \"y\": 236,\n",
        "      \"w\": 113,\n",
        "      \"h\": 74\n",
        "    },\n",
        "    \"object\": \"Laptop\",\n",
        "    \"parent\": {\n",
        "      \"object\": \"computer\",\n",
        "      \"confidence\": 0.56\n",
        "    },\n",
        "    \"confidence\": 0.553\n",
        "  },\n",
        "  {\n",
        "    \"rectangle\": {\n",
        "      \"x\": 351,\n",
        "      \"y\": 331,\n",
        "      \"w\": 154,\n",
        "      \"h\": 99\n",
        "    },\n",
        "    \"object\": \"seating\",\n",
        "    \"confidence\": 0.525\n",
        "  },\n",
        "  {\n",
        "    \"rectangle\": {\n",
        "      \"x\": 0,\n",
        "      \"y\": 101,\n",
        "      \"w\": 174,\n",
        "      \"h\": 329\n",
        "    },\n",
        "    \"object\": \"person\",\n",
        "    \"confidence\": 0.855\n",
        "  },\n",
        "  {\n",
        "    \"rectangle\": {\n",
        "      \"x\": 223,\n",
        "      \"y\": 99,\n",
        "      \"w\": 199,\n",
        "      \"h\": 322\n",
        "    },\n",
        "    \"object\": \"person\",\n",
        "    \"confidence\": 0.725\n",
        "  },\n",
        "  {\n",
        "    \"rectangle\": {\n",
        "      \"x\": 154,\n",
        "      \"y\": 191,\n",
        "      \"w\": 387,\n",
        "      \"h\": 218\n",
        "    },\n",
        "    \"object\": \"seating\",\n",
        "    \"confidence\": 0.679\n",
        "  },\n",
        "  {\n",
        "    \"rectangle\": {\n",
        "      \"x\": 111,\n",
        "      \"y\": 275,\n",
        "      \"w\": 264,\n",
        "      \"h\": 151\n",
        "    },\n",
        "    \"object\": \"table\",\n",
        "    \"confidence\": 0.601\n",
        "  }\n",
        "]"
      ],
      "execution_count": null,
      "outputs": []
    },
    {
      "cell_type": "code",
      "metadata": {
        "id": "BUWh8UvvL63j"
      },
      "source": [
        "for indice in range(len(cognitive_response)): # len - legth (# elementos)\n",
        "    print(cognitive_response[indice][\"object\"])"
      ],
      "execution_count": null,
      "outputs": []
    },
    {
      "cell_type": "code",
      "metadata": {
        "id": "N640wwUXM2-i"
      },
      "source": [
        "for indice in range(len(cognitive_response)): # len - legth (# elementos)\n",
        "    x = cognitive_response[indice][\"rectangle\"][\"x\"]\n",
        "    y = cognitive_response[indice][\"rectangle\"][\"y\"]\n",
        "    print((x, y))"
      ],
      "execution_count": null,
      "outputs": []
    },
    {
      "cell_type": "markdown",
      "metadata": {
        "id": "1vMTiQcpYQzE"
      },
      "source": [
        "## Intro a `requests`\n",
        "\n",
        "Requests es un paquete que está desarrollado para Python y que nos permite poder consumir servicios web a través de peticiones HTTP.\n",
        "\n",
        "Es un módulo muy sencillod e utilizar y es de los más ppopulares en Python.\n",
        "\n",
        "#### Caso de uso:\n",
        "\n",
        "```python\n",
        "import requests\n",
        "\n",
        "\n",
        "url = \"https://pokeapi.co/api/v2/pokemon/144\"\n",
        "response = requests.get(url)\n",
        "\n",
        "print(response.json())\n",
        "```\n",
        "\n",
        "Al formatear la respuesta, dberíamos obtener un objeto JSON como el que sigue:\n",
        "\n",
        "```json\n",
        "{\n",
        "  \"abilities\": [\n",
        "    {\n",
        "      \"ability\": {\n",
        "        \"name\": \"pressure\",\n",
        "        \"url\": \"https://pokeapi.co/api/v2/ability/46/\"\n",
        "      },\n",
        "      \"is_hidden\": false,\n",
        "      \"slot\": 1\n",
        "    },\n",
        "    {\n",
        "      \"ability\": {\n",
        "        \"name\": \"snow-cloak\",\n",
        "        \"url\": \"https://pokeapi.co/api/v2/ability/81/\"\n",
        "      },\n",
        "      \"is_hidden\": true,\n",
        "      \"slot\": 3\n",
        "    }\n",
        "  ],\n",
        "  \"base_experience\": 261,\n",
        "  \"forms\": [\n",
        "    {\n",
        "      \"name\": \"articuno\",\n",
        "      \"url\": \"https://pokeapi.co/api/v2/pokemon-form/144/\"\n",
        "    }\n",
        "  ],\n",
        "\n",
        "  ...\n",
        "\n",
        "  \"types\": [\n",
        "    {\n",
        "      \"slot\": 1,\n",
        "      \"type\": {\n",
        "        \"name\": \"ice\",\n",
        "        \"url\": \"https://pokeapi.co/api/v2/type/15/\"\n",
        "      }\n",
        "    },\n",
        "    {\n",
        "      \"slot\": 2,\n",
        "      \"type\": {\n",
        "        \"name\": \"flying\",\n",
        "        \"url\": \"https://pokeapi.co/api/v2/type/3/\"\n",
        "      }\n",
        "    }\n",
        "  ],\n",
        "  \"weight\": 554\n",
        "}\n",
        "```\n",
        "\n",
        "Una de las ventajas interesantes es que aunque normalmente es necesario instalar requests, Colab ya cuenta con el paquete instalado.\n",
        "\n"
      ]
    },
    {
      "cell_type": "code",
      "metadata": {
        "id": "Q60mJMzWYVRa"
      },
      "source": [
        "import requests"
      ],
      "execution_count": null,
      "outputs": []
    },
    {
      "cell_type": "code",
      "metadata": {
        "id": "H__fVIbsPTot"
      },
      "source": [
        "url = \"https://pokeapi.co/api/v2/pokemon/25\"\n",
        "\n",
        "r = requests.get(url)"
      ],
      "execution_count": null,
      "outputs": []
    },
    {
      "cell_type": "code",
      "metadata": {
        "id": "X_Foou4yPrHr"
      },
      "source": [
        "print(r.json())"
      ],
      "execution_count": null,
      "outputs": []
    },
    {
      "cell_type": "code",
      "metadata": {
        "id": "VE66YPSBQIgz"
      },
      "source": [
        "from pprint import pprint\n",
        "\n",
        "pprint(r.json())"
      ],
      "execution_count": null,
      "outputs": []
    }
  ]
}